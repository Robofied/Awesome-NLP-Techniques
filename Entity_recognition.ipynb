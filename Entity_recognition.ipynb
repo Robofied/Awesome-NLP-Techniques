{
 "cells": [
  {
   "cell_type": "code",
   "execution_count": 4,
   "metadata": {},
   "outputs": [
    {
     "name": "stderr",
     "output_type": "stream",
     "text": [
      "[nltk_data] Downloading package averaged_perceptron_tagger to\n",
      "[nltk_data]     /home/lenovo/nltk_data...\n",
      "[nltk_data]   Unzipping taggers/averaged_perceptron_tagger.zip.\n"
     ]
    },
    {
     "data": {
      "text/plain": [
       "[('Robofied', 'NNP'),\n",
       " ('is', 'VBZ'),\n",
       " ('a', 'DT'),\n",
       " ('comprehensive', 'JJ'),\n",
       " ('Artificial', 'NNP'),\n",
       " ('Intelligence', 'NNP'),\n",
       " ('platform', 'NN'),\n",
       " ('based', 'VBN'),\n",
       " ('in', 'IN'),\n",
       " ('Gurugram', 'NNP'),\n",
       " (',', ','),\n",
       " ('Haryana', 'NNP'),\n",
       " ('working', 'VBG'),\n",
       " ('towards', 'NNS'),\n",
       " ('democratizing', 'VBG'),\n",
       " ('safe', 'JJ'),\n",
       " ('artificial', 'JJ'),\n",
       " ('intelligence', 'NN'),\n",
       " ('towards', 'NNS'),\n",
       " ('a', 'DT'),\n",
       " ('common', 'JJ'),\n",
       " ('goal', 'NN'),\n",
       " ('of', 'IN'),\n",
       " ('Singularity', 'NNP'),\n",
       " ('.', '.'),\n",
       " ('At', 'IN'),\n",
       " ('Robofied', 'NNP'),\n",
       " (',', ','),\n",
       " ('we', 'PRP'),\n",
       " ('are', 'VBP'),\n",
       " ('doing', 'VBG'),\n",
       " ('research', 'NN'),\n",
       " ('in', 'IN'),\n",
       " ('speech', 'NN'),\n",
       " (',', ','),\n",
       " ('natural', 'JJ'),\n",
       " ('language', 'NN'),\n",
       " (',', ','),\n",
       " ('and', 'CC'),\n",
       " ('machine', 'NN'),\n",
       " ('learning', 'NN'),\n",
       " ('.', '.'),\n",
       " ('We', 'PRP'),\n",
       " ('develop', 'VBP'),\n",
       " ('open-source', 'JJ'),\n",
       " ('solutions', 'NNS'),\n",
       " ('for', 'IN'),\n",
       " ('developers', 'NNS'),\n",
       " ('which', 'WDT'),\n",
       " ('empowers', 'VBP'),\n",
       " ('them', 'PRP'),\n",
       " ('so', 'RB'),\n",
       " ('that', 'IN'),\n",
       " ('they', 'PRP'),\n",
       " ('can', 'MD'),\n",
       " ('make', 'VB'),\n",
       " ('better', 'JJR'),\n",
       " ('products', 'NNS'),\n",
       " ('for', 'IN'),\n",
       " ('the', 'DT'),\n",
       " ('world', 'NN'),\n",
       " ('.', '.'),\n",
       " ('We', 'PRP'),\n",
       " ('educate', 'VBP'),\n",
       " ('people', 'NNS'),\n",
       " ('about', 'IN'),\n",
       " ('Artificial', 'JJ'),\n",
       " ('Intelligence', 'NNP'),\n",
       " (',', ','),\n",
       " ('its', 'PRP$'),\n",
       " ('scope', 'NN'),\n",
       " ('and', 'CC'),\n",
       " ('impact', 'NN'),\n",
       " ('via', 'IN'),\n",
       " ('resources', 'NNS'),\n",
       " ('and', 'CC'),\n",
       " ('tutorials', 'NNS'),\n",
       " ('.', '.')]"
      ]
     },
     "execution_count": 4,
     "metadata": {},
     "output_type": "execute_result"
    }
   ],
   "source": [
    "import nltk\n",
    "nltk.download('averaged_perceptron_tagger')\n",
    "\n",
    "from nltk.tokenize import word_tokenize\n",
    "from nltk.tag import pos_tag\n",
    "ex = \"Robofied is a comprehensive Artificial Intelligence platform based in Gurugram,Haryana working towards democratizing safe artificial intelligence towards a common goal of Singularity. At Robofied, we are doing research in speech, natural language, and machine learning. We develop open-source solutions for developers which empowers them so that they can make better products for the world. We educate people about Artificial Intelligence, its scope and impact via resources and tutorials.\"\n",
    "def preprocess(sent):\n",
    "    sent = nltk.word_tokenize(sent)\n",
    "    sent = nltk.pos_tag(sent)\n",
    "    return sent\n",
    "sent = preprocess(ex)\n",
    "sent"
   ]
  },
  {
   "cell_type": "code",
   "execution_count": null,
   "metadata": {},
   "outputs": [],
   "source": []
  }
 ],
 "metadata": {
  "kernelspec": {
   "display_name": "Python 3",
   "language": "python",
   "name": "python3"
  },
  "language_info": {
   "codemirror_mode": {
    "name": "ipython",
    "version": 3
   },
   "file_extension": ".py",
   "mimetype": "text/x-python",
   "name": "python",
   "nbconvert_exporter": "python",
   "pygments_lexer": "ipython3",
   "version": "3.6.9"
  }
 },
 "nbformat": 4,
 "nbformat_minor": 4
}
