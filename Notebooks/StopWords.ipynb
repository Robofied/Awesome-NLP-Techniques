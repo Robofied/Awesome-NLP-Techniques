{
  "nbformat": 4,
  "nbformat_minor": 0,
  "metadata": {
    "colab": {
      "name": "StopWords.ipynb",
      "provenance": [],
      "collapsed_sections": []
    },
    "kernelspec": {
      "name": "python3",
      "display_name": "Python 3"
    }
  },
  "cells": [
    {
      "cell_type": "markdown",
      "metadata": {
        "id": "BstiSQbq5nmP"
      },
      "source": [
        "## **STOPWORDS**\n",
        "\n",
        "---\n"
      ]
    },
    {
      "cell_type": "markdown",
      "metadata": {
        "id": "BiYc7D8T5uN3"
      },
      "source": [
        "### **What are stopwords?**\n",
        "\n",
        "Stopwords are the most common words in any natural language. For the purpose of analyzing text data and building NLP models, these stopwords might not add much value to the meaning of the document.\n",
        "\n",
        "---\n"
      ]
    },
    {
      "cell_type": "markdown",
      "metadata": {
        "id": "a5hVRAaH66hS"
      },
      "source": [
        "### **Need of stopwords**\n",
        "\n",
        "Tasks like text classification, where the text is to be classified into different categories, stopwords are removed from the given text so that more focus can be given to those words which define the meaning of the text.\n",
        "\n",
        "By removing stopwords,dataset size decreases and the time to train the model also decreases.\n",
        "Removing stopwords can help improve the performance as there are fewer and only meaningful tokens left. It could increase classification accuracy.\n",
        "\n",
        "---"
      ]
    },
    {
      "cell_type": "markdown",
      "metadata": {
        "id": "t3f7bE8O7uWt"
      },
      "source": [
        "### **Methods to remove stopwords**\n",
        "\n",
        "---"
      ]
    },
    {
      "cell_type": "markdown",
      "metadata": {
        "id": "F0cdFBOr8YEx"
      },
      "source": [
        "<hr>\n",
        "\n",
        "### **1. Stopwords removal using NLTK**\n",
        "\n",
        "<hr/>\n",
        "\n"
      ]
    },
    {
      "cell_type": "code",
      "metadata": {
        "colab": {
          "base_uri": "https://localhost:8080/"
        },
        "id": "CrroCoox9HzE",
        "outputId": "ea1e8aaf-6861-4919-837e-c1c7f6708376"
      },
      "source": [
        "import nltk\n",
        "nltk.download('stopwords')\n",
        "nltk.download('punkt')\n",
        "from nltk.corpus import stopwords\n",
        "from nltk.tokenize import word_tokenize \n",
        "set(stopwords.words('english'))\n",
        "\n",
        "\n",
        "# sample sentence\n",
        "text = \"Robofied is a comprehensive Artificial Intelligence platform based in Gurugram,Haryana working towards democratizing safe artificial intelligence towards a common goal of Singularity. At Robofied, we are doing research in speech, natural language, and machine learning. We develop open-source solutions for developers which empowers them so that they can make better products for the world. We educate people about Artificial Intelligence, its scope and impact via resources and tutorials.\"\n",
        "\n",
        "# set of stop words\n",
        "stop_words = set(stopwords.words('english')) \n",
        "\n",
        "# tokens of words  \n",
        "word_tokens = word_tokenize(text) \n",
        "    \n",
        "new_sentence = [] \n",
        "  \n",
        "for w in word_tokens: \n",
        "    if w not in stop_words: \n",
        "        new_sentence.append(w) \n",
        "\n",
        "\n",
        "\n",
        "print(\"\\n\\nOriginal Sentence \\n\\n\")\n",
        "print(\" \".join(word_tokens)) \n",
        "\n",
        "print(\"\\n\\nNew Sentence \\n\\n\")\n",
        "print(\" \".join(new_sentence)) \n"
      ],
      "execution_count": null,
      "outputs": [
        {
          "output_type": "stream",
          "text": [
            "[nltk_data] Downloading package stopwords to /root/nltk_data...\n",
            "[nltk_data]   Package stopwords is already up-to-date!\n",
            "[nltk_data] Downloading package punkt to /root/nltk_data...\n",
            "[nltk_data]   Package punkt is already up-to-date!\n",
            "\n",
            "\n",
            "Original Sentence \n",
            "\n",
            "\n",
            "Robofied is a comprehensive Artificial Intelligence platform based in Gurugram , Haryana working towards democratizing safe artificial intelligence towards a common goal of Singularity . At Robofied , we are doing research in speech , natural language , and machine learning . We develop open-source solutions for developers which empowers them so that they can make better products for the world . We educate people about Artificial Intelligence , its scope and impact via resources and tutorials .\n",
            "\n",
            "\n",
            "New Sentence \n",
            "\n",
            "\n",
            "Robofied comprehensive Artificial Intelligence platform based Gurugram , Haryana working towards democratizing safe artificial intelligence towards common goal Singularity . At Robofied , research speech , natural language , machine learning . We develop open-source solutions developers empowers make better products world . We educate people Artificial Intelligence , scope impact via resources tutorials .\n"
          ],
          "name": "stdout"
        }
      ]
    },
    {
      "cell_type": "markdown",
      "metadata": {
        "id": "t4PIVMS5906J"
      },
      "source": [
        "<hr>\n",
        "\n",
        "### **2. Stopword Removal using Gensim**\n",
        "\n",
        "<hr/>\n",
        "\n",
        "\n",
        "\n"
      ]
    },
    {
      "cell_type": "code",
      "metadata": {
        "colab": {
          "base_uri": "https://localhost:8080/"
        },
        "id": "Dy3ERqYE-DLD",
        "outputId": "60f68042-eb30-4cf3-f07b-30b805a77ffb"
      },
      "source": [
        "from gensim.parsing.preprocessing import remove_stopwords\n",
        "\n",
        "# pass the sentence in the remove_stopwords function\n",
        "result = remove_stopwords(\"Robofied is a comprehensive Artificial Intelligence platform based in Gurugram,Haryana working towards democratizing safe artificial intelligence towards a common goal of Singularity. At Robofied, we are doing research in speech, natural language, and machine learning. We develop open-source solutions for developers which empowers them so that they can make better products for the world. We educate people about Artificial Intelligence, its scope and impact via resources and tutorials.\")\n",
        "\n",
        "print('\\n\\n New Sentence \\n\\n')\n",
        "print(result)  "
      ],
      "execution_count": null,
      "outputs": [
        {
          "output_type": "stream",
          "text": [
            "\n",
            "\n",
            " New Sentence \n",
            "\n",
            "\n",
            "Robofied comprehensive Artificial Intelligence platform based Gurugram,Haryana working democratizing safe artificial intelligence common goal Singularity. At Robofied, research speech, natural language, machine learning. We develop open-source solutions developers empowers better products world. We educate people Artificial Intelligence, scope impact resources tutorials.\n"
          ],
          "name": "stdout"
        }
      ]
    },
    {
      "cell_type": "markdown",
      "metadata": {
        "id": "U0B2UQ3z-Wl-"
      },
      "source": [
        "<hr>\n",
        "\n",
        "### **Stopword Removal using spaCy**\n",
        "\n",
        "<hr/>"
      ]
    },
    {
      "cell_type": "code",
      "metadata": {
        "colab": {
          "base_uri": "https://localhost:8080/"
        },
        "id": "oaE0iWjF-fWz",
        "outputId": "88746d27-b35d-4291-ed22-5736bb366c88"
      },
      "source": [
        "from spacy.lang.en import English\n",
        "\n",
        "# Load English tokenizer, tagger, parser, NER and word vectors\n",
        "nlp = English()\n",
        "\n",
        "text = \"Robofied is a comprehensive Artificial Intelligence platform based in Gurugram,Haryana working towards democratizing safe artificial intelligence towards a common goal of Singularity. At Robofied, we are doing research in speech, natural language, and machine learning. We develop open-source solutions for developers which empowers them so that they can make better products for the world. We educate people about Artificial Intelligence, its scope and impact via resources and tutorials.\"\n",
        "\n",
        "\n",
        "\n",
        "doc = nlp(text)\n",
        "\n",
        "# Create list of word tokens\n",
        "token_list = []\n",
        "for token in doc:\n",
        "    token_list.append(token.text)\n",
        "\n",
        "from spacy.lang.en.stop_words import STOP_WORDS\n",
        "\n",
        "# Create list of word tokens after removing stopwords\n",
        "New_sentence =[] \n",
        "\n",
        "for word in token_list:\n",
        "    lexeme = nlp.vocab[word]\n",
        "    if lexeme.is_stop == False:\n",
        "        New_sentence.append(word) \n",
        "print(token_list)\n",
        "print(New_sentence)   "
      ],
      "execution_count": null,
      "outputs": [
        {
          "output_type": "stream",
          "text": [
            "['Robofied', 'is', 'a', 'comprehensive', 'Artificial', 'Intelligence', 'platform', 'based', 'in', 'Gurugram', ',', 'Haryana', 'working', 'towards', 'democratizing', 'safe', 'artificial', 'intelligence', 'towards', 'a', 'common', 'goal', 'of', 'Singularity', '.', 'At', 'Robofied', ',', 'we', 'are', 'doing', 'research', 'in', 'speech', ',', 'natural', 'language', ',', 'and', 'machine', 'learning', '.', 'We', 'develop', 'open', '-', 'source', 'solutions', 'for', 'developers', 'which', 'empowers', 'them', 'so', 'that', 'they', 'can', 'make', 'better', 'products', 'for', 'the', 'world', '.', 'We', 'educate', 'people', 'about', 'Artificial', 'Intelligence', ',', 'its', 'scope', 'and', 'impact', 'via', 'resources', 'and', 'tutorials', '.']\n",
            "['Robofied', 'comprehensive', 'Artificial', 'Intelligence', 'platform', 'based', 'Gurugram', ',', 'Haryana', 'working', 'democratizing', 'safe', 'artificial', 'intelligence', 'common', 'goal', 'Singularity', '.', 'Robofied', ',', 'research', 'speech', ',', 'natural', 'language', ',', 'machine', 'learning', '.', 'develop', 'open', '-', 'source', 'solutions', 'developers', 'empowers', 'better', 'products', 'world', '.', 'educate', 'people', 'Artificial', 'Intelligence', ',', 'scope', 'impact', 'resources', 'tutorials', '.']\n"
          ],
          "name": "stdout"
        }
      ]
    }
  ]
}