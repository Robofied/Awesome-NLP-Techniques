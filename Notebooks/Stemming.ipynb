{
  "nbformat": 4,
  "nbformat_minor": 0,
  "metadata": {
    "colab": {
      "name": "Stemming.ipynb",
      "provenance": [],
      "collapsed_sections": []
    },
    "kernelspec": {
      "name": "python3",
      "display_name": "Python 3"
    }
  },
  "cells": [
    {
      "cell_type": "markdown",
      "metadata": {
        "id": "vf6IvwiW9MFJ"
      },
      "source": [
        "# **Stemming**\n",
        "\n",
        "---"
      ]
    },
    {
      "cell_type": "markdown",
      "metadata": {
        "id": "nl6ttA359RAJ"
      },
      "source": [
        "### **What is stemming?**\n",
        "\n",
        "Stemming is removing the suffix from a word and reduce it to its root word.\n",
        "It is a technique used to extract the base form of the words by removing affixes from them. For example the stem of words writing, writes or written is **write**. "
      ]
    },
    {
      "cell_type": "markdown",
      "metadata": {
        "id": "jZAx3FcWp7pI"
      },
      "source": [
        "\n",
        "\n",
        "### **Stemming Algorithms**\n",
        "\n",
        "---\n",
        "\n",
        "\n"
      ]
    },
    {
      "cell_type": "markdown",
      "metadata": {
        "id": "3xENDas1qoI3"
      },
      "source": [
        "<hr>\n",
        "\n",
        "### **1. Porter stemming algorithm**\n",
        "\n",
        "<hr/>\n",
        "\n",
        "This algorthim is designed to remove well-known suffixes of English words. NLTK has PorterStemmer class which we can implement Porter Stemmer algorithms for the word we want to stem. It produces the best output as compared to other stemmers and it has less error rate. This stemmer is known for its speed and simplicity. But morphological variants produced are not always real words.\n"
      ]
    },
    {
      "cell_type": "code",
      "metadata": {
        "colab": {
          "base_uri": "https://localhost:8080/",
          "height": 35
        },
        "id": "ovCZcV8gtX0K",
        "outputId": "eddb4976-a369-4efa-d4e3-71851b468cb6"
      },
      "source": [
        "#import the required libraries\n",
        "import nltk\n",
        "\n",
        "#import the PorterStemmer\n",
        "from nltk.stem import PorterStemmer\n",
        "\n",
        "#create an instance of Porter Stemmer \n",
        "word_stemmer = PorterStemmer()\n",
        "\n",
        "#input the word to stem\n",
        "word_stemmer.stem('learning')\n"
      ],
      "execution_count": 1,
      "outputs": [
        {
          "output_type": "execute_result",
          "data": {
            "application/vnd.google.colaboratory.intrinsic+json": {
              "type": "string"
            },
            "text/plain": [
              "'learn'"
            ]
          },
          "metadata": {
            "tags": []
          },
          "execution_count": 1
        }
      ]
    },
    {
      "cell_type": "markdown",
      "metadata": {
        "id": "9SQYDnkJuCuy"
      },
      "source": [
        "<hr>\n",
        "\n",
        "### **2. Lancaster stemming algorithm**\n",
        "\n",
        "<hr/>\n",
        "\n",
        "NLTK has LancasterStemmer class with the help of which Lancaster Stemmer algorithms can be implemented for the word we want to stem. "
      ]
    },
    {
      "cell_type": "code",
      "metadata": {
        "colab": {
          "base_uri": "https://localhost:8080/",
          "height": 35
        },
        "id": "TxBl0OrxmfZF",
        "outputId": "6d5d4c4a-1883-46dd-9ca8-ad54f09bbe5e"
      },
      "source": [
        "#import the libraries\n",
        "import nltk\n",
        "\n",
        "#import the LancasterStemmer class \n",
        "from nltk.stem import LancasterStemmer\n",
        "\n",
        "#create an instance of LancasterStemmer class\n",
        "Lanc_stemmer = LancasterStemmer()\n",
        "\n",
        "#input the word to stem\n",
        "Lanc_stemmer.stem('reading')\n"
      ],
      "execution_count": 3,
      "outputs": [
        {
          "output_type": "execute_result",
          "data": {
            "application/vnd.google.colaboratory.intrinsic+json": {
              "type": "string"
            },
            "text/plain": [
              "'read'"
            ]
          },
          "metadata": {
            "tags": []
          },
          "execution_count": 3
        }
      ]
    },
    {
      "cell_type": "markdown",
      "metadata": {
        "id": "Ep3al5BUm2Fv"
      },
      "source": [
        "<hr>\n",
        "\n",
        "### **3. Snowball stemming algorithm**\n",
        "\n",
        "<hr/>\n",
        "\n",
        "This algorithm is also known as the Porter2 stemming algorithm. It supports 15 non-English languages. In order to use this steaming class, an instance with the name of the language we are using is to be created and then the stem() method must be called."
      ]
    },
    {
      "cell_type": "code",
      "metadata": {
        "colab": {
          "base_uri": "https://localhost:8080/",
          "height": 35
        },
        "id": "GFuWDPzansC5",
        "outputId": "8ee163a6-c43c-4dbd-d5c0-cc7e132b507b"
      },
      "source": [
        "#import the libraries\n",
        "import nltk\n",
        "\n",
        "#import the SnowballStemmer class\n",
        "from nltk.stem import SnowballStemmer\n",
        "\n",
        "#create an instance of SnowballStemmer class with the language you want to use\n",
        "English_stemmer = SnowballStemmer('english')\n",
        "\n",
        "#call the stem() method to stem the input word\n",
        "English_stemmer.stem ('writes')"
      ],
      "execution_count": 6,
      "outputs": [
        {
          "output_type": "execute_result",
          "data": {
            "application/vnd.google.colaboratory.intrinsic+json": {
              "type": "string"
            },
            "text/plain": [
              "'write'"
            ]
          },
          "metadata": {
            "tags": []
          },
          "execution_count": 6
        }
      ]
    },
    {
      "cell_type": "markdown",
      "metadata": {
        "id": "aEJEuDkUoRaU"
      },
      "source": [
        "<hr>\n",
        "\n",
        "### **4. Regular Expression stemming algorithm**\n",
        "\n",
        "<hr/>\n",
        "\n",
        "NLTK has RegexpStemmer class with the help of which Regular Expression Stemmer algorithms can be implemented.\n",
        "It takes a single regular expression and removes any prefix or suffix that matches the expression. "
      ]
    },
    {
      "cell_type": "code",
      "metadata": {
        "colab": {
          "base_uri": "https://localhost:8080/",
          "height": 35
        },
        "id": "-OwJDmUeplgx",
        "outputId": "e49f9a5d-2a77-4bac-80dd-3d36b4152d6d"
      },
      "source": [
        "#import libraries\n",
        "import nltk\n",
        "\n",
        "#import the RegexpStemmer class\n",
        "from nltk.stem import RegexpStemmer\n",
        "\n",
        "#create an instance of RegexpStemmer class \n",
        "Reg_stemmer = RegexpStemmer('ing')\n",
        "\n",
        "#input the word to stem\n",
        "Reg_stemmer.stem('laughing')"
      ],
      "execution_count": 10,
      "outputs": [
        {
          "output_type": "execute_result",
          "data": {
            "application/vnd.google.colaboratory.intrinsic+json": {
              "type": "string"
            },
            "text/plain": [
              "'laugh'"
            ]
          },
          "metadata": {
            "tags": []
          },
          "execution_count": 10
        }
      ]
    }
  ]
}