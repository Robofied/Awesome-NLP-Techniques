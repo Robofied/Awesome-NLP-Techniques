{
 "cells": [
  {
   "cell_type": "code",
   "execution_count": 1,
   "metadata": {},
   "outputs": [
    {
     "data": {
      "text/plain": [
       "[[('Robofied', 'NN'),\n",
       "  ('is', 'NN'),\n",
       "  ('a', 'NN'),\n",
       "  ('comprehensive', 'NN'),\n",
       "  ('Artificial', 'NN'),\n",
       "  ('Intelligence', 'NN'),\n",
       "  ('platform', 'NN')],\n",
       " [('based', 'NN'),\n",
       "  ('in', 'NN'),\n",
       "  ('Gurugram', 'NN'),\n",
       "  ('Haryana', 'NN'),\n",
       "  ('working', 'NN'),\n",
       "  ('towards', 'NN'),\n",
       "  ('democratizing', 'NN'),\n",
       "  ('safe', 'NN'),\n",
       "  ('artificial', 'NN'),\n",
       "  ('intelligence', 'NN'),\n",
       "  ('towards', 'NN'),\n",
       "  ('a', 'NN'),\n",
       "  ('common', 'NN'),\n",
       "  ('goal', 'NN'),\n",
       "  ('of', 'NN'),\n",
       "  ('Singularity', 'NN')]]"
      ]
     },
     "execution_count": 1,
     "metadata": {},
     "output_type": "execute_result"
    }
   ],
   "source": [
    "# Loading Libraries \n",
    "from nltk.tag import DefaultTagger \n",
    "  \n",
    "# Defining Tag \n",
    "tagging = DefaultTagger('NN') \n",
    "  \n",
    "tagging.tag_sents([['Robofied', 'is', 'a', 'comprehensive', 'Artificial', 'Intelligence', 'platform'], ['based', 'in', 'Gurugram','Haryana', 'working', 'towards', 'democratizing', 'safe', 'artificial', 'intelligence', 'towards', 'a', 'common', 'goal', 'of', 'Singularity']]) \n",
    "\n"
   ]
  },
  {
   "cell_type": "code",
   "execution_count": null,
   "metadata": {},
   "outputs": [],
   "source": []
  }
 ],
 "metadata": {
  "kernelspec": {
   "display_name": "Python 3",
   "language": "python",
   "name": "python3"
  },
  "language_info": {
   "codemirror_mode": {
    "name": "ipython",
    "version": 3
   },
   "file_extension": ".py",
   "mimetype": "text/x-python",
   "name": "python",
   "nbconvert_exporter": "python",
   "pygments_lexer": "ipython3",
   "version": "3.6.9"
  }
 },
 "nbformat": 4,
 "nbformat_minor": 4
}
