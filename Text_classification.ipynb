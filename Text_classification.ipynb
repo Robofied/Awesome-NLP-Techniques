{
 "cells": [
  {
   "cell_type": "code",
   "execution_count": 12,
   "metadata": {},
   "outputs": [
    {
     "name": "stdout",
     "output_type": "stream",
     "text": [
      "Class_A\n",
      "Class_B\n"
     ]
    }
   ],
   "source": [
    "from textblob.classifiers import NaiveBayesClassifier as NBC\n",
    "from textblob import TextBlob\n",
    "training_corpus = [\n",
    "                   ('I am exhausted of this college work.', 'Class_B'),\n",
    "                   (\"I can't manage college.\", 'Class_B'),\n",
    "                   ('Coding is my biggest fear!', 'Class_B'),\n",
    "                   ('My mathematics is poor.', 'Class_B'),\n",
    "                   ('I love robofied.', 'Class_A'),\n",
    "                   ('Robofied is a brilliant place!', 'Class_A'),\n",
    "                   ('I feel very good about working with NLP.', 'Class_A'),\n",
    "                   ('Machine learning is my best work.', 'Class_A'),\n",
    "                   (\"Artificial intelligence is awesome\", 'Class_A'),\n",
    "                   ('I do not like working with core electronics ', 'Class_B')]\n",
    "test_corpus = [\n",
    "                (\"I am not feeling good about this.\", 'Class_B'), \n",
    "                (\"I feel good with ML!\", 'Class_A'), \n",
    "                ('NLP is my favourite', 'Class_A'), \n",
    "                (\"I can't believe I can cod ein ML.\", 'Class_B'), \n",
    "                ('The date was good.', 'Class_A'), ('I do not enjoy my college work', 'Class_B')]\n",
    "model = NBC(training_corpus) \n",
    "print(model.classify(\"Machine learning codes are good.\"))\n",
    "print(model.classify(\"I don't like physics.\"))"
   ]
  },
  {
   "cell_type": "code",
   "execution_count": null,
   "metadata": {},
   "outputs": [],
   "source": []
  }
 ],
 "metadata": {
  "kernelspec": {
   "display_name": "Python 3",
   "language": "python",
   "name": "python3"
  },
  "language_info": {
   "codemirror_mode": {
    "name": "ipython",
    "version": 3
   },
   "file_extension": ".py",
   "mimetype": "text/x-python",
   "name": "python",
   "nbconvert_exporter": "python",
   "pygments_lexer": "ipython3",
   "version": "3.6.9"
  }
 },
 "nbformat": 4,
 "nbformat_minor": 4
}
