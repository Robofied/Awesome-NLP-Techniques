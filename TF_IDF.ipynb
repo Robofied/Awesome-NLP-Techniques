{
  "nbformat": 4,
  "nbformat_minor": 0,
  "metadata": {
    "colab": {
      "name": "TF-IDF.ipynb",
      "provenance": [],
      "collapsed_sections": []
    },
    "kernelspec": {
      "name": "python3",
      "display_name": "Python 3"
    },
    "language_info": {
      "name": "python"
    }
  },
  "cells": [
    {
      "cell_type": "markdown",
      "metadata": {
        "id": "2A3K9RAVUOWl"
      },
      "source": [
        "# **TF-IDF**"
      ]
    },
    {
      "cell_type": "markdown",
      "metadata": {
        "id": "FsgH4HHtOYRc"
      },
      "source": [
        "### **What is TF-IDF?**\n",
        "\n",
        "---\n",
        "\n",
        "TF-IDF which means Term Frequency and Inverse Document Frequency, is a scoring measure widely used in information retrieval (IR) or summarization. TF-IDF is intended to reflect how relevant a term is in a given document whereas Bag of Words just creates a set of vectors containing the count of word occurrences in the sentences , but it does not contain information on important words."
      ]
    },
    {
      "cell_type": "markdown",
      "metadata": {
        "id": "sj3dbGrrZ4jH"
      },
      "source": [
        "<hr>\n",
        "\n",
        "### **Need of TF-IDF**\n",
        "\n",
        "<hr/>\n",
        "\n",
        "TF-IDF is used for document search and information retrieval or summarization. "
      ]
    },
    {
      "cell_type": "markdown",
      "metadata": {
        "id": "uKkd4GRzUUe8"
      },
      "source": [
        "### **Term Frequency (TF)**\n",
        "\n",
        "---\n",
        "\n",
        "It is a measure of how frequently a term, t, appears in a document.\n",
        "Here, in the numerator, n is the number of times the term “t” appears in the document “d”. Thus, each document and term would have its own TF value.\n",
        "\n",
        "![tf.jpg](data:image/jpeg;base64,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)"
      ]
    },
    {
      "cell_type": "markdown",
      "metadata": {
        "id": "uQsmX8q9U9wH"
      },
      "source": [
        "### **Inverse Document Frequency (IDF)**\n",
        "\n",
        "---\n",
        "\n",
        "IDF is a measure of how important a term is. We need the IDF value because computing just the TF alone is not sufficient to understand the importance of words.\n",
        "\n",
        "![idf.jpg](data:image/jpeg;base64,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)"
      ]
    },
    {
      "cell_type": "markdown",
      "metadata": {
        "id": "7cMlKs5gp2O1"
      },
      "source": [
        "### **Way of finding TF-IDF**\n",
        "\n",
        "---\n",
        "\n",
        "  1. Clean data / Preprocessing , Normalize data, lemmatize data\n",
        "  2. Tokenize words with frequency\n",
        "  3. Find TF for words\n",
        "  4. Find IDF for words\n",
        "  5. Vectorize vocab"
      ]
    },
    {
      "cell_type": "markdown",
      "metadata": {
        "id": "KJxz3tHXH2Ks"
      },
      "source": [
        "### **Python code for TF-IDF**\n"
      ]
    },
    {
      "cell_type": "code",
      "metadata": {
        "colab": {
          "base_uri": "https://localhost:8080/"
        },
        "id": "ZEnUgChcLU_n",
        "outputId": "9e656f5b-101a-409d-ed15-7d2368a6928e"
      },
      "source": [
        "#Declaring all documents\n",
        "\n",
        "Document1= \"Robofied is a comprehensive Artificial Intelligence platform based in Gurugram,Haryana.\"\n",
        "Document2= \"At Robofied, we are doing research in speech, natural language, and machine learning.\"\n",
        "Document3= \"We develop open-source solutions for developers which empowers them so that they can make better products for the world.\"\n",
        "Document4= \"We educate people about Artificial Intelligence, its scope and impact via resources and tutorials.\"\n",
        "Doc = [Document1 ,\n",
        " Document2 , \n",
        " Document3, Document4]\n",
        "print(Doc)"
      ],
      "execution_count": null,
      "outputs": [
        {
          "output_type": "stream",
          "text": [
            "['Robofied is a comprehensive Artificial Intelligence platform based in Gurugram,Haryana.', 'At Robofied, we are doing research in speech, natural language, and machine learning.', 'We develop open-source solutions for developers which empowers them so that they can make better products for the world.', 'We educate people about Artificial Intelligence, its scope and impact via resources and tutorials.']\n"
          ],
          "name": "stdout"
        }
      ]
    },
    {
      "cell_type": "code",
      "metadata": {
        "id": "bVB7VJPHL2EF"
      },
      "source": [
        "#intializing TFIDFVectorizer\n",
        "from sklearn.feature_extraction.text import TfidfVectorizer\n",
        "vectorizer = TfidfVectorizer()"
      ],
      "execution_count": null,
      "outputs": []
    },
    {
      "cell_type": "code",
      "metadata": {
        "colab": {
          "base_uri": "https://localhost:8080/"
        },
        "id": "Z_Il0S-FMSTg",
        "outputId": "91d59d56-6f4d-404c-d413-77374aef3362"
      },
      "source": [
        "#Vectorization of documents\n",
        "analyze = vectorizer.build_analyzer()\n",
        "print('Document 1',analyze(Document1))\n",
        "\n",
        "print('Document 2',analyze(Document2))\n",
        "\n",
        "print('Document 3',analyze(Document3))\n",
        "\n",
        "print('Document 4',analyze(Document4))\n",
        "\n",
        "X = vectorizer.fit_transform(Doc)\n",
        "\n",
        "print('Document transform',X.toarray())"
      ],
      "execution_count": null,
      "outputs": [
        {
          "output_type": "stream",
          "text": [
            "Document 1 ['robofied', 'is', 'comprehensive', 'artificial', 'intelligence', 'platform', 'based', 'in', 'gurugram', 'haryana']\n",
            "Document 2 ['at', 'robofied', 'we', 'are', 'doing', 'research', 'in', 'speech', 'natural', 'language', 'and', 'machine', 'learning']\n",
            "Document 3 ['we', 'develop', 'open', 'source', 'solutions', 'for', 'developers', 'which', 'empowers', 'them', 'so', 'that', 'they', 'can', 'make', 'better', 'products', 'for', 'the', 'world']\n",
            "Document 4 ['we', 'educate', 'people', 'about', 'artificial', 'intelligence', 'its', 'scope', 'and', 'impact', 'via', 'resources', 'and', 'tutorials']\n",
            "Document transform [[0.         0.         0.         0.27063997 0.         0.34327249\n",
            "  0.         0.         0.34327249 0.         0.         0.\n",
            "  0.         0.         0.         0.34327249 0.34327249 0.\n",
            "  0.27063997 0.27063997 0.34327249 0.         0.         0.\n",
            "  0.         0.         0.         0.         0.         0.34327249\n",
            "  0.         0.         0.         0.27063997 0.         0.\n",
            "  0.         0.         0.         0.         0.         0.\n",
            "  0.         0.         0.         0.         0.         0.        ]\n",
            " [0.         0.23482743 0.29784882 0.         0.29784882 0.\n",
            "  0.         0.         0.         0.         0.         0.29784882\n",
            "  0.         0.         0.         0.         0.         0.\n",
            "  0.23482743 0.         0.         0.         0.29784882 0.29784882\n",
            "  0.29784882 0.         0.29784882 0.         0.         0.\n",
            "  0.         0.29784882 0.         0.23482743 0.         0.\n",
            "  0.         0.         0.29784882 0.         0.         0.\n",
            "  0.         0.         0.         0.19011304 0.         0.        ]\n",
            " [0.         0.         0.         0.         0.         0.\n",
            "  0.21613143 0.21613143 0.         0.21613143 0.21613143 0.\n",
            "  0.         0.21613143 0.43226287 0.         0.         0.\n",
            "  0.         0.         0.         0.         0.         0.\n",
            "  0.         0.21613143 0.         0.21613143 0.         0.\n",
            "  0.21613143 0.         0.         0.         0.         0.21613143\n",
            "  0.21613143 0.21613143 0.         0.21613143 0.21613143 0.21613143\n",
            "  0.21613143 0.         0.         0.13795389 0.21613143 0.21613143]\n",
            " [0.27590048 0.43504621 0.         0.21752311 0.         0.\n",
            "  0.         0.         0.         0.         0.         0.\n",
            "  0.27590048 0.         0.         0.         0.         0.27590048\n",
            "  0.         0.21752311 0.         0.27590048 0.         0.\n",
            "  0.         0.         0.         0.         0.27590048 0.\n",
            "  0.         0.         0.27590048 0.         0.27590048 0.\n",
            "  0.         0.         0.         0.         0.         0.\n",
            "  0.         0.27590048 0.27590048 0.1761037  0.         0.        ]]\n"
          ],
          "name": "stdout"
        }
      ]
    },
    {
      "cell_type": "code",
      "metadata": {
        "colab": {
          "base_uri": "https://localhost:8080/"
        },
        "id": "NjWjO_pSNrv5",
        "outputId": "a508f138-87e3-4f05-84d7-d85a63bdcc52"
      },
      "source": [
        "print(vectorizer.get_feature_names())"
      ],
      "execution_count": null,
      "outputs": [
        {
          "output_type": "stream",
          "text": [
            "['about', 'and', 'are', 'artificial', 'at', 'based', 'better', 'can', 'comprehensive', 'develop', 'developers', 'doing', 'educate', 'empowers', 'for', 'gurugram', 'haryana', 'impact', 'in', 'intelligence', 'is', 'its', 'language', 'learning', 'machine', 'make', 'natural', 'open', 'people', 'platform', 'products', 'research', 'resources', 'robofied', 'scope', 'so', 'solutions', 'source', 'speech', 'that', 'the', 'them', 'they', 'tutorials', 'via', 'we', 'which', 'world']\n"
          ],
          "name": "stdout"
        }
      ]
    }
  ]
}