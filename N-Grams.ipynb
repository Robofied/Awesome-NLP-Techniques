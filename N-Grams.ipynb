{
 "cells": [
  {
   "cell_type": "code",
   "execution_count": 6,
   "metadata": {},
   "outputs": [
    {
     "name": "stderr",
     "output_type": "stream",
     "text": [
      "[nltk_data] Downloading package averaged_perceptron_tagger to\n",
      "[nltk_data]     /home/lenovo/nltk_data...\n",
      "[nltk_data]   Package averaged_perceptron_tagger is already up-to-\n",
      "[nltk_data]       date!\n"
     ]
    },
    {
     "data": {
      "text/plain": [
       "[['Robofied', 'is'],\n",
       " ['is', 'a'],\n",
       " ['a', 'comprehensive'],\n",
       " ['comprehensive', 'Artificial'],\n",
       " ['Artificial', 'Intelligence'],\n",
       " ['Intelligence', 'platform'],\n",
       " ['platform', 'based'],\n",
       " ['based', 'in'],\n",
       " ['in', 'Gurugram,Haryana'],\n",
       " ['Gurugram,Haryana', 'working'],\n",
       " ['working', 'towards'],\n",
       " ['towards', 'democratizing'],\n",
       " ['democratizing', 'safe'],\n",
       " ['safe', 'artificial'],\n",
       " ['artificial', 'intelligence'],\n",
       " ['intelligence', 'towards'],\n",
       " ['towards', 'a'],\n",
       " ['a', 'common'],\n",
       " ['common', 'goal'],\n",
       " ['goal', 'of'],\n",
       " ['of', 'Singularity.'],\n",
       " ['Singularity.', 'At'],\n",
       " ['At', 'Robofied,'],\n",
       " ['Robofied,', 'we'],\n",
       " ['we', 'are'],\n",
       " ['are', 'doing'],\n",
       " ['doing', 'research'],\n",
       " ['research', 'in'],\n",
       " ['in', 'speech,'],\n",
       " ['speech,', 'natural'],\n",
       " ['natural', 'language,'],\n",
       " ['language,', 'and'],\n",
       " ['and', 'machine'],\n",
       " ['machine', 'learning.'],\n",
       " ['learning.', 'We'],\n",
       " ['We', 'develop'],\n",
       " ['develop', 'open-source'],\n",
       " ['open-source', 'solutions'],\n",
       " ['solutions', 'for'],\n",
       " ['for', 'developers'],\n",
       " ['developers', 'which'],\n",
       " ['which', 'empowers'],\n",
       " ['empowers', 'them'],\n",
       " ['them', 'so'],\n",
       " ['so', 'that'],\n",
       " ['that', 'they'],\n",
       " ['they', 'can'],\n",
       " ['can', 'make'],\n",
       " ['make', 'better'],\n",
       " ['better', 'products'],\n",
       " ['products', 'for'],\n",
       " ['for', 'the'],\n",
       " ['the', 'world.'],\n",
       " ['world.', 'We'],\n",
       " ['We', 'educate'],\n",
       " ['educate', 'people'],\n",
       " ['people', 'about'],\n",
       " ['about', 'Artificial'],\n",
       " ['Artificial', 'Intelligence,'],\n",
       " ['Intelligence,', 'its'],\n",
       " ['its', 'scope'],\n",
       " ['scope', 'and'],\n",
       " ['and', 'impact'],\n",
       " ['impact', 'via'],\n",
       " ['via', 'resources'],\n",
       " ['resources', 'and'],\n",
       " ['and', 'tutorials.']]"
      ]
     },
     "execution_count": 6,
     "metadata": {},
     "output_type": "execute_result"
    }
   ],
   "source": [
    "#import required libraries\n",
    "import nltk\n",
    "nltk.download('averaged_perceptron_tagger')\n",
    "\n",
    "from nltk.tokenize import word_tokenize\n",
    "\n",
    "#N-gram\n",
    "def generate_ngrams(text, n):\n",
    "    words = text.split()\n",
    "    output = []  \n",
    "    for i in range(len(words)-n+1):\n",
    "        output.append(words[i:i+n])\n",
    "    return output\n",
    "\n",
    "#sample sentence for N-gram detection\n",
    "generate_ngrams(\"Robofied is a comprehensive Artificial Intelligence platform based in Gurugram,Haryana working towards democratizing safe artificial intelligence towards a common goal of Singularity. At Robofied, we are doing research in speech, natural language, and machine learning. We develop open-source solutions for developers which empowers them so that they can make better products for the world. We educate people about Artificial Intelligence, its scope and impact via resources and tutorials.\", 2)"
   ]
  },
  {
   "cell_type": "code",
   "execution_count": null,
   "metadata": {},
   "outputs": [],
   "source": []
  }
 ],
 "metadata": {
  "kernelspec": {
   "display_name": "Python 3",
   "language": "python",
   "name": "python3"
  },
  "language_info": {
   "codemirror_mode": {
    "name": "ipython",
    "version": 3
   },
   "file_extension": ".py",
   "mimetype": "text/x-python",
   "name": "python",
   "nbconvert_exporter": "python",
   "pygments_lexer": "ipython3",
   "version": "3.6.9"
  }
 },
 "nbformat": 4,
 "nbformat_minor": 4
}
