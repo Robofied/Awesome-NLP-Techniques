{
 "cells": [
  {
   "cell_type": "code",
   "execution_count": 9,
   "metadata": {},
   "outputs": [
    {
     "name": "stdout",
     "output_type": "stream",
     "text": [
      "  (0, 40)\t0.20950050103627468\n",
      "  (0, 30)\t0.20950050103627468\n",
      "  (0, 17)\t0.20950050103627468\n",
      "  (0, 8)\t0.20950050103627468\n",
      "  (0, 38)\t0.20950050103627468\n",
      "  (0, 10)\t0.20950050103627468\n",
      "  (0, 49)\t0.41900100207254937\n",
      "  (0, 54)\t0.20950050103627468\n",
      "  (0, 19)\t0.20950050103627468\n",
      "  (0, 18)\t0.20950050103627468\n",
      "  (0, 21)\t0.15933053100845035\n",
      "  (0, 5)\t0.20950050103627468\n",
      "  (0, 33)\t0.20950050103627468\n",
      "  (0, 22)\t0.3186610620169007\n",
      "  (0, 3)\t0.3186610620169007\n",
      "  (0, 9)\t0.20950050103627468\n",
      "  (0, 23)\t0.20950050103627468\n",
      "  (0, 37)\t0.15933053100845035\n",
      "  (1, 26)\t0.2973032329664839\n",
      "  (1, 27)\t0.2973032329664839\n",
      "  (1, 1)\t0.22610677179658367\n",
      "  (1, 25)\t0.2973032329664839\n",
      "  (1, 29)\t0.2973032329664839\n",
      "  (1, 44)\t0.2973032329664839\n",
      "  (1, 35)\t0.2973032329664839\n",
      "  :\t:\n",
      "  (2, 0)\t0.16716894070318472\n",
      "  (2, 32)\t0.16716894070318472\n",
      "  (2, 14)\t0.16716894070318472\n",
      "  (2, 55)\t0.16716894070318472\n",
      "  (2, 46)\t0.16716894070318472\n",
      "  (2, 34)\t0.16716894070318472\n",
      "  (2, 6)\t0.16716894070318472\n",
      "  (2, 28)\t0.16716894070318472\n",
      "  (2, 7)\t0.16716894070318472\n",
      "  (2, 48)\t0.16716894070318472\n",
      "  (2, 45)\t0.16716894070318472\n",
      "  (2, 41)\t0.16716894070318472\n",
      "  (2, 47)\t0.16716894070318472\n",
      "  (2, 15)\t0.16716894070318472\n",
      "  (2, 53)\t0.16716894070318472\n",
      "  (2, 12)\t0.16716894070318472\n",
      "  (2, 16)\t0.33433788140636944\n",
      "  (2, 42)\t0.16716894070318472\n",
      "  (2, 43)\t0.16716894070318472\n",
      "  (2, 31)\t0.16716894070318472\n",
      "  (2, 11)\t0.16716894070318472\n",
      "  (2, 1)\t0.2542725765199649\n",
      "  (2, 52)\t0.2542725765199649\n",
      "  (2, 22)\t0.12713628825998244\n",
      "  (2, 3)\t0.12713628825998244\n"
     ]
    }
   ],
   "source": [
    "from sklearn.feature_extraction.text import TfidfVectorizer\n",
    "obj = TfidfVectorizer()\n",
    "corpus = [\"Robofied is a comprehensive Artificial Intelligence platform based in Gurugram,Haryana working towards democratizing safe artificial intelligence towards a common goal of Singularity.\", \"At Robofied, we are doing research in speech, natural language, and machine learning.\",\" We develop open-source solutions for developers which empowers them so that they can make better products for the world. We educate people about Artificial Intelligence, its scope and impact via resources and tutorials.\"]\n",
    "X = obj.fit_transform(corpus)\n",
    "print(X)"
   ]
  },
  {
   "cell_type": "code",
   "execution_count": null,
   "metadata": {},
   "outputs": [],
   "source": []
  }
 ],
 "metadata": {
  "kernelspec": {
   "display_name": "Python 3",
   "language": "python",
   "name": "python3"
  },
  "language_info": {
   "codemirror_mode": {
    "name": "ipython",
    "version": 3
   },
   "file_extension": ".py",
   "mimetype": "text/x-python",
   "name": "python",
   "nbconvert_exporter": "python",
   "pygments_lexer": "ipython3",
   "version": "3.6.9"
  }
 },
 "nbformat": 4,
 "nbformat_minor": 4
}
