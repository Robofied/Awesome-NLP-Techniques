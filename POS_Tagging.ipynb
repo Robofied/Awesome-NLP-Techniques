{
  "nbformat": 4,
  "nbformat_minor": 0,
  "metadata": {
    "colab": {
      "name": "POS_Tagging.ipynb",
      "provenance": [],
      "collapsed_sections": []
    },
    "kernelspec": {
      "name": "python3",
      "display_name": "Python 3"
    },
    "language_info": {
      "name": "python"
    }
  },
  "cells": [
    {
      "cell_type": "markdown",
      "metadata": {
        "id": "FY99LHWjS3-4"
      },
      "source": [
        "# **POS Tagging**\n",
        "---\n",
        "\n"
      ]
    },
    {
      "cell_type": "markdown",
      "metadata": {
        "id": "V6phTXR3S-Ig"
      },
      "source": [
        "### **POS Tagging**\n",
        "---\n",
        "\n",
        "\n",
        "Part-of-speech(POS) tagging is the process of marking up a word in a text as corresponding to a particular part of speech, based on both its definition and its context. To understand the meaning of any sentence or to extract relationships and build a knowledge graph, POS Tagging is a very important step.\n"
      ]
    },
    {
      "cell_type": "markdown",
      "metadata": {
        "id": "SyAS40qVYJhe"
      },
      "source": [
        "## **Types of POS Tagging**\n",
        "---\n",
        "\n",
        "### **1. Rule-based POS Tagging**\n",
        "Rule-based taggers use dictionary or lexicon for getting possible tags for tagging each word. If the word has more than one possible tag, then rule-based taggers use hand-written rules to identify the correct tag.\n",
        "These taggers are knowledge-driven taggers.\n",
        "The rules in Rule-based POS tagging are built manually.\n",
        "\n",
        "\n",
        "\n"
      ]
    },
    {
      "cell_type": "markdown",
      "metadata": {
        "id": "xca4JEpHYtvz"
      },
      "source": [
        "### **2. Stochastic POS Tagging**\n",
        "\n",
        "The model that includes frequency or probability can be called stochastic. \n",
        "\n",
        "The simplest stochastic tagger applies the following approaches for POS tagging:-\n",
        "\n",
        "##### **1. Word Frequency Approach**\n",
        "The stochastic taggers disambiguate the words based on the probability that a word occurs with a particular tag.\n",
        "\n",
        "##### **2. Tag Sequence Probabilities**\n",
        "\n",
        "It is another approach of stochastic tagging, where the tagger calculates the probability of a given sequence of tags occurring. It is also called n-gram approach.\n",
        "\n"
      ]
    },
    {
      "cell_type": "markdown",
      "metadata": {
        "id": "A0k-S9yFZsYe"
      },
      "source": [
        "This stochastic POS tagging is based on the probability of tag occurring.\n",
        "It requires training corpus\n",
        "There would be no probability for the words that do not exist in the corpus."
      ]
    },
    {
      "cell_type": "markdown",
      "metadata": {
        "id": "aj-J9oU3Z_Cn"
      },
      "source": [
        "#### **Code in python for POS Tagging**"
      ]
    },
    {
      "cell_type": "code",
      "metadata": {
        "colab": {
          "base_uri": "https://localhost:8080/"
        },
        "id": "2OklU2fQW3ry",
        "outputId": "c51693b4-217c-4b34-8c5b-c289df63f484"
      },
      "source": [
        "import nltk\n",
        "nltk.download('punkt')\n",
        "nltk.download('averaged_perceptron_tagger')\n",
        "  \n",
        "from nltk.tokenize import word_tokenize\n",
        "text = word_tokenize(\"She sells seashell on the seashore\")\n",
        "nltk.pos_tag(text)"
      ],
      "execution_count": null,
      "outputs": [
        {
          "output_type": "stream",
          "text": [
            "[nltk_data] Downloading package punkt to /root/nltk_data...\n",
            "[nltk_data]   Package punkt is already up-to-date!\n",
            "[nltk_data] Downloading package averaged_perceptron_tagger to\n",
            "[nltk_data]     /root/nltk_data...\n",
            "[nltk_data]   Unzipping taggers/averaged_perceptron_tagger.zip.\n"
          ],
          "name": "stdout"
        },
        {
          "output_type": "execute_result",
          "data": {
            "text/plain": [
              "[('She', 'PRP'),\n",
              " ('sells', 'VBZ'),\n",
              " ('seashell', 'NN'),\n",
              " ('on', 'IN'),\n",
              " ('the', 'DT'),\n",
              " ('seashore', 'NN')]"
            ]
          },
          "metadata": {
            "tags": []
          },
          "execution_count": 4
        }
      ]
    }
  ]
}