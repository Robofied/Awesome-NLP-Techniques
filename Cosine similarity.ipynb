{
 "cells": [
  {
   "cell_type": "code",
   "execution_count": 5,
   "metadata": {},
   "outputs": [
    {
     "name": "stdout",
     "output_type": "stream",
     "text": [
      "similarity:  0.2581988897471611\n"
     ]
    }
   ],
   "source": [
    "#importing required libraries\n",
    "\n",
    "from nltk.corpus import stopwords \n",
    "from nltk.tokenize import word_tokenize \n",
    "  \n",
    "\n",
    "X =\"Robofied is a comprehensive Artificial Intelligence platform.\"\n",
    "Y =\"At Robofied, we are doing research in speech, natural language, and machine learning.\"\n",
    "  \n",
    "#tokenization \n",
    "X_lst = word_tokenize(X)  \n",
    "Y_lst = word_tokenize(Y) \n",
    "  \n",
    "#list of stopwords \n",
    "stopword = stopwords.words('english')  \n",
    "l1 =[];l2 =[] \n",
    "  \n",
    "# remove stop words from the string \n",
    "X = {w for w in X_lst if not w in stopword}  \n",
    "Y = {w for w in Y_lst if not w in stopword} \n",
    "  \n",
    "#Set containing keywords of both strings  \n",
    "rvector = X.union(Y)  \n",
    "for w in rvector: \n",
    "    if w in X: l1.append(1) \n",
    "    else: l1.append(0) \n",
    "    if w in Y: l2.append(1) \n",
    "    else: l2.append(0) \n",
    "c = 0\n",
    "  \n",
    "#formula for cosine\n",
    "for i in range(len(rvector)): \n",
    "        c+= l1[i]*l2[i] \n",
    "cosine = c / float((sum(l1)*sum(l2))**0.5) \n",
    "print(\"similarity: \", cosine) "
   ]
  },
  {
   "cell_type": "code",
   "execution_count": null,
   "metadata": {},
   "outputs": [],
   "source": []
  }
 ],
 "metadata": {
  "kernelspec": {
   "display_name": "Python 3",
   "language": "python",
   "name": "python3"
  },
  "language_info": {
   "codemirror_mode": {
    "name": "ipython",
    "version": 3
   },
   "file_extension": ".py",
   "mimetype": "text/x-python",
   "name": "python",
   "nbconvert_exporter": "python",
   "pygments_lexer": "ipython3",
   "version": "3.6.9"
  }
 },
 "nbformat": 4,
 "nbformat_minor": 4
}
