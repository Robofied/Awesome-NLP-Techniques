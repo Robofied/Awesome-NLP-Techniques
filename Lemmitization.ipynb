{
 "cells": [
  {
   "cell_type": "code",
   "execution_count": 5,
   "metadata": {},
   "outputs": [
    {
     "name": "stdout",
     "output_type": "stream",
     "text": [
      "Robofied is a comprehensive Artificial Intelligence platform based in Gurugram , Haryana working towards democratizing safe artificial intelligence towards a common goal of Singularity .\n",
      "At Robofied , we are doing research in speech , natural language , and machine learning .\n"
     ]
    },
    {
     "name": "stderr",
     "output_type": "stream",
     "text": [
      "[nltk_data] Downloading package wordnet to /home/lenovo/nltk_data...\n",
      "[nltk_data]   Package wordnet is already up-to-date!\n"
     ]
    }
   ],
   "source": [
    "import nltk \n",
    "nltk.download('wordnet') \n",
    "from nltk.stem import WordNetLemmatizer \n",
    "  \n",
    "# Create WordNetLemmatizer object \n",
    "wnl = WordNetLemmatizer() \n",
    "string1 = \"Robofied is a comprehensive Artificial Intelligence platform based in Gurugram,Haryana working towards democratizing safe artificial intelligence towards a common goal of Singularity.\"\n",
    "\n",
    "string2 = \"At Robofied, we are doing research in speech, natural languages, and machine learnings.\" \n",
    "\n",
    "list1 = nltk.word_tokenize(string1) \n",
    "list2 = nltk.word_tokenize(string2)\n",
    "\n",
    " \n",
    "  \n",
    "lemmatized_string1 = ' '.join([wnl.lemmatize(words) for words in list1]) \n",
    "lemmatized_string2 = ' '.join([wnl.lemmatize(words) for words in list2]) \n",
    "  \n",
    "  \n",
    "print(lemmatized_string1)  \n",
    "print(lemmatized_string2)"
   ]
  },
  {
   "cell_type": "code",
   "execution_count": null,
   "metadata": {},
   "outputs": [],
   "source": []
  }
 ],
 "metadata": {
  "kernelspec": {
   "display_name": "Python 3",
   "language": "python",
   "name": "python3"
  },
  "language_info": {
   "codemirror_mode": {
    "name": "ipython",
    "version": 3
   },
   "file_extension": ".py",
   "mimetype": "text/x-python",
   "name": "python",
   "nbconvert_exporter": "python",
   "pygments_lexer": "ipython3",
   "version": "3.6.9"
  }
 },
 "nbformat": 4,
 "nbformat_minor": 4
}
