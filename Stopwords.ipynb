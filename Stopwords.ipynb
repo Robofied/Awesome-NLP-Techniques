{
 "cells": [
  {
   "cell_type": "code",
   "execution_count": 2,
   "metadata": {},
   "outputs": [
    {
     "name": "stderr",
     "output_type": "stream",
     "text": [
      "[nltk_data] Downloading package punkt to /home/lenovo/nltk_data...\n",
      "[nltk_data]   Package punkt is already up-to-date!\n"
     ]
    },
    {
     "name": "stdout",
     "output_type": "stream",
     "text": [
      "['Robofied', 'comprehensive', 'Artificial', 'Intelligence', 'platform', 'based', 'Gurugram', ',', 'Haryana', 'working', 'towards', 'democratizing', 'safe', 'artificial', 'intelligence', 'towards', 'common', 'goal', 'Singularity', '.', 'At', 'Robofied', ',', 'research', 'speech', ',', 'natural', 'language', ',', 'machine', 'learning', '.', 'We', 'develop', 'open-source', 'solutions', 'developers', 'empowers', 'make', 'better', 'products', 'world', '.', 'We', 'educate', 'people', 'Artificial', 'Intelligence', ',', 'scope', 'impact', 'via', 'resources', 'tutorials', '.']\n"
     ]
    }
   ],
   "source": [
    "#import all the required packages  \n",
    "import nltk\n",
    "\n",
    "from nltk.corpus import stopwords\n",
    "\n",
    "nltk.download('punkt')\n",
    "\n",
    "#set of stopwords\n",
    "stop_words = set(stopwords.words(\"english\"))\n",
    "\n",
    "#sample sentence\n",
    "sentence = \"Robofied is a comprehensive Artificial Intelligence platform based in Gurugram,Haryana working towards democratizing safe artificial intelligence towards a common goal of Singularity. At Robofied, we are doing research in speech, natural language, and machine learning. We develop open-source solutions for developers which empowers them so that they can make better products for the world. We educate people about Artificial Intelligence, its scope and impact via resources and tutorials.\"\n",
    "\n",
    "#Tokenization of the sentence\n",
    "words = nltk.word_tokenize(sentence)\n",
    "\n",
    "without_stop_words = [word for word in words if not word in stop_words]\n",
    "\n",
    "print(without_stop_words)"
   ]
  },
  {
   "cell_type": "code",
   "execution_count": null,
   "metadata": {},
   "outputs": [],
   "source": []
  }
 ],
 "metadata": {
  "kernelspec": {
   "display_name": "Python 3",
   "language": "python",
   "name": "python3"
  },
  "language_info": {
   "codemirror_mode": {
    "name": "ipython",
    "version": 3
   },
   "file_extension": ".py",
   "mimetype": "text/x-python",
   "name": "python",
   "nbconvert_exporter": "python",
   "pygments_lexer": "ipython3",
   "version": "3.6.9"
  }
 },
 "nbformat": 4,
 "nbformat_minor": 4
}
